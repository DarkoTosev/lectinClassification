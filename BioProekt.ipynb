{
  "nbformat": 4,
  "nbformat_minor": 0,
  "metadata": {
    "colab": {
      "name": "BioProekt.ipynb",
      "provenance": [],
      "collapsed_sections": [],
      "authorship_tag": "ABX9TyMJ+LbIZT4YWTb1j8zfhkYf"
    },
    "kernelspec": {
      "name": "python3",
      "display_name": "Python 3"
    },
    "accelerator": "GPU"
  },
  "cells": [
    {
      "cell_type": "markdown",
      "metadata": {
        "id": "cqtZDMsfhqaW"
      },
      "source": [
        "Инсталација/импортирање на потребните пакети, и читање на примероците од двете класи."
      ]
    },
    {
      "cell_type": "code",
      "metadata": {
        "id": "mmA6rreerP4n"
      },
      "source": [
        "!pip install biopython"
      ],
      "execution_count": null,
      "outputs": []
    },
    {
      "cell_type": "code",
      "metadata": {
        "id": "wE82nXrS8DKz"
      },
      "source": [
        "from google.colab import files\n",
        "file = files.upload()"
      ],
      "execution_count": null,
      "outputs": []
    },
    {
      "cell_type": "code",
      "metadata": {
        "id": "Do9XFlci8QNC"
      },
      "source": [
        "from Bio import SeqIO\n",
        "from sklearn.decomposition import TruncatedSVD\n",
        "from sklearn.model_selection import StratifiedKFold\n",
        "import numpy as np\n",
        "import random, operator\n",
        "from tensorflow.keras.models import Model\n",
        "from tensorflow.keras.layers import Dense, LSTM, Input, Dropout, GRU, Bidirectional, Embedding\n",
        "from tensorflow.keras.callbacks import EarlyStopping, ModelCheckpoint\n",
        "import tensorflow as tf\n",
        "from sklearn import metrics\n",
        "import matplotlib.pyplot as plt\n",
        "import seaborn as sns\n",
        "import statistics\n",
        "from collections import Counter\n",
        "from keras.preprocessing.sequence import pad_sequences\n",
        "from keras.utils import to_categorical\n",
        "from tensorflow.keras import regularizers"
      ],
      "execution_count": null,
      "outputs": []
    },
    {
      "cell_type": "markdown",
      "metadata": {
        "id": "t0VtlyhZh8Pa"
      },
      "source": [
        "Примероците се запишани во FASTA формат, така што си ги читаме соодветно. \n",
        "\n",
        "Имаме еден примерок од негативна класа со должина од 8000 а.к. - тој можеме да го отфрлиме."
      ]
    },
    {
      "cell_type": "code",
      "metadata": {
        "id": "XwbIJWMp8O9L"
      },
      "source": [
        "def parse_seqs(file):\n",
        "  seqs = []\n",
        "  for seq_record in SeqIO.parse(file, \"fasta\"):\n",
        "    if len(seq_record.seq)<=5000:\n",
        "      seqs.append(seq_record.seq)\n",
        "  return seqs\n",
        "\n",
        "cancerlectin_raw = parse_seqs(\"cancerlectin.txt\")\n",
        "non_cancerlectin_raw = parse_seqs(\"non-cancerlectin.txt\")\n",
        "\n",
        "print(len(cancerlectin_raw))\n",
        "print(len(non_cancerlectin_raw))"
      ],
      "execution_count": null,
      "outputs": []
    },
    {
      "cell_type": "markdown",
      "metadata": {
        "id": "6lBgm8exjtoV"
      },
      "source": [
        "**Анализа за должината на протеинските секвенци**\n"
      ]
    },
    {
      "cell_type": "code",
      "metadata": {
        "id": "tone9yniHzF-",
        "colab": {
          "base_uri": "https://localhost:8080/",
          "height": 650
        },
        "outputId": "4e2dfe0a-4acd-43ac-951e-af26850286ad"
      },
      "source": [
        "lengths_cancerlectin = [len(x) for x in cancerlectin_raw]\n",
        "lengths_non_cancerlectin = [len(x) for x in non_cancerlectin_raw]\n",
        "legend = ['cancerlectin', 'non_cancerlectin']\n",
        "plt.hist([lengths_cancerlectin, lengths_non_cancerlectin], color=['orange', 'green'])\n",
        "plt.xlabel(\"Lengths\")\n",
        "plt.ylabel(\"Frequency\")\n",
        "plt.legend(legend)\n",
        "plt.show()\n",
        "\n",
        "print(min(lengths_cancerlectin))\n",
        "print(min(lengths_non_cancerlectin))\n",
        "print(max(lengths_cancerlectin))\n",
        "print(max(lengths_non_cancerlectin))\n",
        "\n",
        "cancer = Counter(lengths_cancerlectin)\n",
        "print(cancer.most_common(10))\n",
        "ncancer = Counter(lengths_non_cancerlectin)\n",
        "print(ncancer.most_common(10))\n",
        "\n",
        "def plot_seq_count(df, data_name):\n",
        "  sns.distplot(df)\n",
        "  plt.title(f'Sequence char count: {data_name}')\n",
        "  plt.grid(True)\n",
        "\n",
        "plot_seq_count(lengths_cancerlectin, \"cancer\")\n",
        "plot_seq_count(lengths_non_cancerlectin, \"noncancer\")"
      ],
      "execution_count": null,
      "outputs": [
        {
          "output_type": "display_data",
          "data": {
            "image/png": "[encoded data removed]",
            "text/plain": [
              "<Figure size 432x288 with 1 Axes>"
            ]
          },
          "metadata": {
            "tags": [],
            "needs_background": "light"
          }
        },
        {
          "output_type": "stream",
          "text": [
            "52\n",
            "21\n",
            "4293\n",
            "9159\n",
            "[(273, 4), (158, 3), (171, 3), (359, 3), (135, 2), (2033, 2), (276, 2), (195, 2), (374, 2), (357, 2)]\n",
            "[(158, 3), (147, 3), (157, 3), (234, 3), (145, 2), (164, 2), (111, 2), (163, 2), (133, 2), (253, 2)]\n"
          ],
          "name": "stdout"
        },
        {
          "output_type": "display_data",
          "data": {
            "image/png": "[encoded data removed]",
            "text/plain": [
              "<Figure size 432x288 with 1 Axes>"
            ]
          },
          "metadata": {
            "tags": [],
            "needs_background": "light"
          }
        }
      ]
    },
    {
      "cell_type": "markdown",
      "metadata": {
        "id": "pqgDxyi3iI2V"
      },
      "source": [
        "# Прв пристап на енкодирање\n",
        "\n",
        "---\n",
        "\n",
        "Пишување на помошните променливи и функции за користење понатаму во главните.\n",
        "\n",
        "**alphabet_to_binary** - Креираме бинарен вектор од основната азбука за дадена а.к.\n",
        "\n",
        "**all_3mers** - Создавање на сите можни 3-пептиди од редуцираната азбука на а.к. и пакување во мапа, со клуч = пептидот и вредност = i-тата позиција(редицата) во матрицата.\n",
        "\n",
        "**transform** - Трансформација на пептид од основната азбука во редуцираната азбука, односно секоја а.к. се заменува со соодветната група."
      ]
    },
    {
      "cell_type": "code",
      "metadata": {
        "id": "D1MhccNj6ZAk"
      },
      "source": [
        "alphabet = {\"A\": 0, \"C\": 1, \"D\": 2, \"E\": 3, \"F\": 4, \"G\": 5, \"H\": 6, \"I\": 7, \"K\": 8, \"L\": 9, \\\n",
        "            \"M\": 10, \"N\": 11, \"P\": 12, \"Q\": 13, \"R\": 14, \"S\": 15, \"T\": 16, \"V\": 17, \"W\": 18, \"Y\": 19}\n",
        "\n",
        "def alphabet_to_binary(ac):\n",
        "  bin_vector = np.zeros((20,), dtype = \"int8\")\n",
        "  bin_vector[alphabet[ac]] = 1\n",
        "  return bin_vector\n",
        "\n",
        "reduced_alphabet_dict = {\"A\":\"G1\", \"C\":\"G7\", \"D\":\"G6\", \"E\":\"G6\", \"F\":\"G2\", \"G\":\"G1\", \"H\":\"G4\", \"I\":\"G2\", \"K\":\"G5\", \"L\":\"G2\", \\\n",
        "                         \"M\":\"G3\", \"N\":\"G4\", \"P\":\"G2\", \"Q\":\"G4\", \"R\":\"G5\", \"S\":\"G3\", \"T\":\"G3\", \"V\":\"G1\", \"W\":\"G4\", \"Y\":\"G3\"}\n",
        "reduced_alphabet = [\"G1\", \"G2\", \"G3\", \"G4\", \"G5\", \"G6\", \"G7\"]\n",
        "\n",
        "def all_3mers():\n",
        "  _3mers = {}\n",
        "  count = 0\n",
        "  for ac1 in reduced_alphabet:\n",
        "    for ac2 in reduced_alphabet:\n",
        "      for ac3 in reduced_alphabet:\n",
        "        mer = ac1 + ac2 + ac3\n",
        "        _3mers[mer] = count\n",
        "        count += 1\n",
        "  return _3mers\n",
        "\n",
        "def transform(seq):\n",
        "  mer = \"\"\n",
        "  for ac in seq:\n",
        "    mer += reduced_alphabet_dict[ac]\n",
        "  return mer"
      ],
      "execution_count": null,
      "outputs": []
    },
    {
      "cell_type": "markdown",
      "metadata": {
        "id": "3QGv0f4EjGer"
      },
      "source": [
        "**Nterminal_features** - функција што ни ја враќа бинарната репрезентација на N-терминалот(првите 10 а.к.) во вектор со димензии 1 x 200(по 20 за секоја а.к.).\n",
        "\n",
        "**Cterminal_features** - функција што ни ја враќа бинарната репрезентација на C-терминалот(последните 10 а.к.) во вектор со димензии 1 x 200(по 20 за секоја а.к.).\n",
        "\n",
        "**kMer_sparse_matrix_features** - функција што прво ја пресметува матрицата за дадениот протеин(редица = можниот пептид, колона = подсеквенца што се среќава во протеинот) и потоа ја редуцира до една колона со димензии 343 x 1 со користење на SVD од готовиот пакет."
      ]
    },
    {
      "cell_type": "code",
      "metadata": {
        "id": "t6jgbcquKbSE"
      },
      "source": [
        "def Nterminal_features(seq):\n",
        "  features = []\n",
        "  count = 0\n",
        "  for ac in seq:\n",
        "    features.extend(alphabet_to_binary(ac))\n",
        "    if count == 9:\n",
        "      break\n",
        "    count += 1\n",
        "  return features\n",
        "\n",
        "def Cterminal_features(seq):\n",
        "  features = []\n",
        "  for i in range(len(seq) - 10, len(seq)):#ac in seq:\n",
        "    features.extend(alphabet_to_binary(seq[i]))\n",
        "  return features\n",
        "\n",
        "_3mers = all_3mers()\n",
        "svd = TruncatedSVD(n_components = 1)\n",
        "def kMer_sparse_matrix_features(seq):\n",
        "  matrix = np.zeros((len(_3mers), len(seq) - 2), dtype = \"int8\")\n",
        "  for i in range(0, len(seq) - 2):\n",
        "    matrix[_3mers[transform(seq[i:i+3])]][i] = 1\n",
        "  features = svd.fit_transform(matrix)\n",
        "  return features"
      ],
      "execution_count": null,
      "outputs": []
    },
    {
      "cell_type": "markdown",
      "metadata": {
        "id": "VvD9F9KlkqFk"
      },
      "source": [
        "**transform_to_features** - функција што ги комбинира трите вектори(од N-терминал, C-терминал и од матрицата-за којшто треба дополнително транспонирање) во еден со димензии 1 x 743 за секој примерок и враќа листа од таквите трансформирани примероци. \n",
        "\n",
        "Се повикува за сите примероци, од двете класи."
      ]
    },
    {
      "cell_type": "code",
      "metadata": {
        "id": "b4pmXsa5GVkJ"
      },
      "source": [
        "def transform_to_features(samples, length):\n",
        "  seqs = np.zeros((len(samples), length))\n",
        "  for i in range(0, len(samples)):\n",
        "    print(\"Se obrabotuva pr. so dolzina \" + string(len(samples[i])))\n",
        "    kMer_features = np.transpose(kMer_sparse_matrix_features(samples[i]))\n",
        "    kMer_features = kMer_features.tolist()[0]\n",
        "    Nterminal_ftrs = Nterminal_features(samples[i])\n",
        "    Cterminal_ftrs = Cterminal_features(samples[i])\n",
        "\n",
        "    Nterminal_ftrs.extend(kMer_features)\n",
        "    Nterminal_ftrs.extend(Cterminal_ftrs)\n",
        "\n",
        "    # vo Nterminal_ftrs se naogjaat karakteristikite od trite metodi\n",
        "    seqs[i] = Nterminal_ftrs\n",
        "  return seqs\n",
        "\n",
        "cancerlectin_processed = transform_to_features(cancerlectin_raw, 743)\n",
        "non_cancerlectin_processed = transform_to_features(non_cancerlectin_raw, 743)"
      ],
      "execution_count": null,
      "outputs": []
    },
    {
      "cell_type": "markdown",
      "metadata": {
        "id": "vDAK51WDViyX"
      },
      "source": [
        "\n",
        "\n",
        "---\n",
        "\n"
      ]
    },
    {
      "cell_type": "markdown",
      "metadata": {
        "id": "u3N4LJzcVsz7"
      },
      "source": [
        "# Втор пристап на енкодирање\n",
        "\n",
        "---\n",
        "\n",
        "**integer_encoding** - функција што ни ги енкодира 20те а.к. со цел број од 1-20 и враќа низа од броеви соодветна на а.к.\n",
        "\n",
        "Понатаму со pad_sequences додаваме 0ли на краевите на секвенците што имаат помала должина од max_length.\n",
        "\n",
        "Од повеќе обиди за вредност на max_length, со 400 имавме навидум најдобри резултати.\n"
      ]
    },
    {
      "cell_type": "code",
      "metadata": {
        "id": "4NdBbVBtfGBO"
      },
      "source": [
        "alphabet = {\"A\": 0, \"C\": 1, \"D\": 2, \"E\": 3, \"F\": 4, \"G\": 5, \"H\": 6, \"I\": 7, \"K\": 8, \"L\": 9, \\\n",
        "            \"M\": 10, \"N\": 11, \"P\": 12, \"Q\": 13, \"R\": 14, \"S\": 15, \"T\": 16, \"V\": 17, \"W\": 18, \"Y\": 19}\n",
        "\n",
        "def integer_encoding(data):\n",
        "  encode_list = []\n",
        "  for seq in data:\n",
        "    seq_encode = []\n",
        "    for ac in seq:\n",
        "      seq_encode.append(alphabet[ac]+1)\n",
        "    encode_list.append(np.array(seq_encode))\n",
        "  \n",
        "  return encode_list\n",
        "\n",
        "cancerlectin_encode = integer_encoding(cancerlectin_raw)\n",
        "non_cancerlectin_encode = integer_encoding(non_cancerlectin_raw)\n",
        "\n",
        "# max_length = 2500\n",
        "max_length = 400\n",
        "cancerlectin_processed = pad_sequences(cancerlectin_encode, maxlen = max_length, padding = 'post', truncating = 'post')\n",
        "non_cancerlectin_processed = pad_sequences(non_cancerlectin_encode, maxlen = max_length, padding = 'post', truncating = 'post')\n",
        "\n",
        "print(cancerlectin_processed.shape, non_cancerlectin_processed.shape)"
      ],
      "execution_count": null,
      "outputs": []
    },
    {
      "cell_type": "markdown",
      "metadata": {
        "id": "8O3uglJuYkTE"
      },
      "source": [
        "\n",
        "\n",
        "---\n",
        "\n"
      ]
    },
    {
      "cell_type": "markdown",
      "metadata": {
        "id": "0GhZaHtGMYGT"
      },
      "source": [
        "Конкатенација на примероците од двете класи и создавање на лабелите - 1 означува примерок од позитивната класа и 0 означува примерок од негативната класа. "
      ]
    },
    {
      "cell_type": "code",
      "metadata": {
        "id": "_glaT0OQS_yO"
      },
      "source": [
        "data = np.concatenate((cancerlectin_processed, non_cancerlectin_processed))\n",
        "\n",
        "cancerlectin_labels = np.ones((len(cancerlectin_raw),))\n",
        "non_cancerlectin_labels = np.zeros((len(non_cancerlectin_raw),))\n",
        "labels = np.concatenate((cancerlectin_labels, non_cancerlectin_labels))\n",
        "\n",
        "print(data.shape)"
      ],
      "execution_count": null,
      "outputs": []
    },
    {
      "cell_type": "markdown",
      "metadata": {
        "id": "dCPtPELKiDK3"
      },
      "source": [
        "# Градење на моделите\n",
        "\n",
        "---\n",
        "\n",
        "Моделите се објаснети во документацијата.\n",
        "\n",
        "Тука ги вклучив во коментар тие за коишто имам резултати во документацијата.\n"
      ]
    },
    {
      "cell_type": "code",
      "metadata": {
        "id": "2cCXbvmc1erj"
      },
      "source": [
        "def training_model(data_train):\n",
        "  \n",
        "  # prv pristap na enkodiranje\n",
        "  #x_input = Input(shape = data_train.shape[1:], name = 'input')\n",
        "\n",
        "  # vtor pristap na enkodiranje\n",
        "  x_input = Input(shape = (max_length,), name = 'input')\n",
        "  # imav vo nekoi sluchai minimalno podobri rezultati bez maskiranje\n",
        "  #emb = Embedding(21, 128, input_length = max_length)(x_input)\n",
        "  emb = Embedding(21, 128, input_length = max_length, mask_zero = True)(x_input)\n",
        "  \n",
        "\n",
        "  # mrezha so dense sloevi\n",
        "  #dense1 = Dense(512, activation = 'relu', kernel_regularizer = regularizers.l2(0.01), bias_regularizer = regularizers.l2(0.01), name = 'dense1')(x_input)\n",
        "  #dense2 = Dense(372, activation = 'relu', kernel_regularizer = regularizers.l2(0.01), bias_regularizer = regularizers.l2(0.01), name = 'dense2')(dense1)\n",
        "  #dense3 = Dense(182, activation = 'relu', kernel_regularizer = regularizers.l2(0.01), bias_regularizer = regularizers.l2(0.01), name = 'dense3')(dense2)\n",
        "  #dense4 = Dense(94, activation = 'relu', kernel_regularizer = regularizers.l2(0.01), bias_regularizer = regularizers.l2(0.01), name = 'dense4')(dense3)\n",
        "  #dense5 = Dense(24, activation = 'relu', kernel_regularizer = regularizers.l2(0.01), bias_regularizer = regularizers.l2(0.01), name = 'dense5')(dense4)\n",
        "  #dense6 = Dense(12, activation = 'relu', kernel_regularizer = regularizers.l2(0.01), bias_regularizer = regularizers.l2(0.01), name = 'dense6')(dense5)\n",
        "  #reg = Dropout(0.15, name = 'regularisation')(dense6)\n",
        "\n",
        "\n",
        "  # prv pristap na enkodiranje ------------------------------------------------------------------------------------------------------------------------------\n",
        "  # lstm so 1 sloj\n",
        "  #lstm1 = LSTM(412, return_sequences = False, recurrent_regularizer = regularizers.l2(0.01), kernel_regularizer = regularizers.l2(0.01), bias_regularizer = regularizers.l2(0.01), name = 'lstm1')(x_input)\n",
        "  #reg = Dropout(0.15, name = 'regularisation')(lstm1)\n",
        "\n",
        "  # lstm so poveke sloevi\n",
        "  #lstm1 = LSTM(412, return_sequences = True, name = 'lstm1')(x_input)\n",
        "  #lstm2 = LSTM(206, return_sequences = True, dropout = 0.15, name = 'lstm2')(lstm1)\n",
        "  #lstm3 = LSTM(102, return_sequences = True, dropout = 0.15, name = 'lstm3')(lstm2)\n",
        "  #lstm4 = LSTM(52, return_sequences = True, dropout = 0.15, name = 'lstm4')(lstm3)\n",
        "  #lstm5 = LSTM(12, return_sequences = False, dropout = 0.15, name = 'lstm5')(lstm4)\n",
        "  #reg = Dropout(0.15, name = 'regularisation')(lstm5)\n",
        "  \n",
        "  # gru so 1 sloj\n",
        "  #gru1 = GRU(412, return_sequences = False, recurrent_regularizer = regularizers.l2(0.01), kernel_regularizer = regularizers.l2(0.01), bias_regularizer = regularizers.l2(0.01), name = 'gru1')(x_input)\n",
        "  #reg = Dropout(0.15, name = 'regularisation')(gru1)\n",
        "\n",
        "  # gru so poveke sloevi\n",
        "  #gru1 = GRU(412, return_sequences = True, name = 'gru1')(x_input)\n",
        "  #gru2 = GRU(206, return_sequences = True, dropout = 0.15, name = 'gru2')(gru1)\n",
        "  #gru3 = GRU(102, return_sequences = True, dropout = 0.15, name = 'gru3')(gru2)\n",
        "  #gru4 = GRU(52, return_sequences = True, dropout = 0.15, name = 'gru4')(gru3)\n",
        "  #gru5 = GRU(12, return_sequences = False, dropout = 0.15, name = 'gru5')(gru4)\n",
        "  #reg = Dropout(0.15, name = 'regularisation')(gru5)\n",
        "  \n",
        "\n",
        "  # vtor pristap na enkodiranje ------------------------------------------------------------------------------------------------------------------------------\n",
        "  # gru so 1 sloj\n",
        "  #gru1 = GRU(128, return_sequences = False, name = 'gru1')(emb)\n",
        "  #reg = Dropout(0.15, name = 'regularisation')(gru1)\n",
        "\n",
        "  # gru so poveke sloevi\n",
        "  #ru1 = GRU(128, return_sequences = True, name = 'gru1')(emb)\n",
        "  #gru2 = GRU(64, return_sequences = True, dropout = 0.15, name = 'gru2')(gru1)\n",
        "  #gru3 = GRU(32, return_sequences = True, dropout = 0.15, name = 'gru3')(gru2)\n",
        "  #gru4 = GRU(12, return_sequences = False, dropout = 0.15, name = 'gru4')(gru3)\n",
        "  #reg = Dropout(0.15, name = 'regularisation')(gru4)\n",
        "\n",
        "  # lstm so 1 sloj\n",
        "  #lstm1 = LSTM(128, return_sequences = False, name = 'lstm1')(emb)\n",
        "  #reg = Dropout(0.15, name = 'regularisation')(lstm1)\n",
        "  \n",
        "  # lstm so poveke sloevi\n",
        "  #lstm1 = LSTM(128, return_sequences = True, name = 'lstm1')(emb)\n",
        "  #lstm2 = LSTM(64, return_sequences = True, dropout = 0.15, name = 'lstm2')(lstm1)\n",
        "  #lstm3 = LSTM(32, return_sequences = True, dropout = 0.15, name = 'lstm3')(lstm2)\n",
        "  #lstm4 = LSTM(12, return_sequences = False, dropout = 0.15, name = 'lstm4')(lstm3)\n",
        "  #reg = Dropout(0.15, name = 'regularisation')(lstm4)\n",
        "\n",
        "  # bidirectional\n",
        "  blstm1 = Bidirectional(LSTM(256, return_sequences = True, recurrent_regularizer = regularizers.l2(0.01), kernel_regularizer = regularizers.l2(0.01), bias_regularizer = regularizers.l2(0.01), name = 'blstm1'))(emb)\n",
        "  blstm2 = Bidirectional(LSTM(128, return_sequences = True, dropout = 0.15, name = 'blstm2'))(blstm1)\n",
        "  blstm3 = Bidirectional(LSTM(64, return_sequences = True, dropout = 0.15, name = 'blstm3'))(blstm2)\n",
        "  blstm4 = Bidirectional(LSTM(12, return_sequences = False, dropout = 0.15, name = 'blstm4'))(blstm3)\n",
        "  reg = Dropout(0.15, name = 'regularisation')(blstm4)\n",
        "  \n",
        "\n",
        "  x_output = Dense(1, activation = 'sigmoid', name = 'pred_layer')(reg)\n",
        "  model = Model(inputs = x_input, outputs = x_output)\n",
        "  #model.summary()\n",
        "\n",
        "  return model"
      ],
      "execution_count": null,
      "outputs": []
    },
    {
      "cell_type": "markdown",
      "metadata": {
        "id": "mT_w2B2we5_w"
      },
      "source": [
        "# Тренирање и евалуација на моделите\n",
        "\n",
        "---\n",
        "\n",
        "Понатаму пробав 3 начини на евалуација и градење на моделите.\n",
        "\n",
        "**Првиот начин** е поделба на множ. во тренинг, валидациско и тест мн. Првично, имаме поделба на мн. во тренинг и тест со еднаков број на примероци од двете класи во тренинг множеството. Потоа градење на модели и тестирање на тие модели со стратифицирана k-fold поделба на тренинг мн. во k тренинг и валидациски множества. На крајот користење на најдобрите модели и тестирање врз првичното тест мн. **Овој начин** откако размислив подобро, **не го користам во крајната евалуација бидејќи мн. не е доволно големо за користење на фаза на валидација**. Доколку беше соодветно големо нашето мн. овој начин би бил најдобриот за евалуација.\n",
        "\n",
        "**Вториот начин** е исти како првиот, односно имаме поделба на мн. во тренинг и тест со еднаков број на примероци од двете класи во тренинг множеството, но овој пат без валидациско мн. и директно тестирање врз тренинг множеството. **Иако овој пат немаме валидациско мн., сепак не ги гледаме придобивките**(резултатите не беа многу поразлични од третиот начин на евалуација) **бидејќи мн. е премногу мало и резултатите зависат од изборот на примероците во тренинг мн.**\n",
        "\n",
        "Кодот и објаснувањата за претходните два начини ги вклучив иако не ги користам при евалуација за финалните резултати во документацијата. Можат да се скокнат со соодветен избор на извршување на различни делови од кодот.\n",
        "\n",
        "**Третиот начин што го користам за конечен метод на евалуација** е класична стратифицирана k-fold поделба во тренинг и тест мн. со понатамошна средна вредност на мерките за конечни резултати. **Овој начин е истиот што е користен во претходните истражувања и на овој начин имаме директна споредба на резултатите од претходните истражувања**.\n",
        "\n",
        "\n",
        "---\n",
        "\n"
      ]
    },
    {
      "cell_type": "markdown",
      "metadata": {
        "id": "01DT8se8Q0hs"
      },
      "source": [
        "**calculate_performace** - функција за пресметка на мерките за евалуација. Направено со Лапласово израмнување поради случаи кадешто потполно предвидува примероци само за едната класа."
      ]
    },
    {
      "cell_type": "code",
      "metadata": {
        "id": "k15NNFbt2Vd8"
      },
      "source": [
        "def calculate_performace(total_samples, predicted, labels):\n",
        "  tp = 1\n",
        "  fp = 1\n",
        "  tn = 1\n",
        "  fn = 1\n",
        "  for index in range(total_samples):\n",
        "    if labels[index] == 1:\n",
        "      if labels[index] == predicted[index]:\n",
        "        tp += 1\n",
        "      else:\n",
        "        fn += 1\n",
        "    else:\n",
        "      if labels[index] == predicted[index]:\n",
        "        tn += 1\n",
        "      else:\n",
        "        fp += 1\n",
        "\n",
        "  acc = float(tp + tn) / (total_samples + 4)\n",
        "  precision = float(tp) / (tp + fp)\n",
        "  sensitivity = float(tp) / (tp + fn)\n",
        "  specificity = float(tn) / (tn + fp)\n",
        "  MCC = float(tp * tn - fp * fn) / (np.sqrt((tp + fp) * (tp + fn) * (tn + fp) * (tn + fn)))\n",
        "  return acc, precision, sensitivity, specificity, MCC"
      ],
      "execution_count": null,
      "outputs": []
    },
    {
      "cell_type": "markdown",
      "metadata": {
        "id": "bubCyUTgPqvr"
      },
      "source": [
        "**Начин 1: k-fold со валидациско мн.**\n",
        "\n",
        "\n",
        "---\n",
        "\n"
      ]
    },
    {
      "cell_type": "markdown",
      "metadata": {
        "id": "5yw183D_N1kD"
      },
      "source": [
        "Тука ја правиме поделбата во тренинг мн. со еднаков број на примероци од двете класи и тест множ. со тие примероци што остануваат. Ова резултира со 16 примероци од позитивна и 64 примероци од негативна класа во тест мн. и по 162 примероци од двете класи во тренинг мн.\n",
        "\n",
        "Бирањето на кои примероци ќе ни бидат за тренинг е на случаен начин(со одреден seed за да имаме репродукција на резултатите)."
      ]
    },
    {
      "cell_type": "code",
      "metadata": {
        "id": "IjLic4UWwsmG"
      },
      "source": [
        "# 80% za trening, ostanato za test\n",
        "split = int(0.8 * len(data))\n",
        "# od tie 80% po pola za sekoja klasa\n",
        "count = int(split/2)\n",
        "\n",
        "random.seed(0)\n",
        "positive_indices_training = random.sample(range(0, len(cancerlectin_labels)), count)\n",
        "negative_indices_training = random.sample(range(len(cancerlectin_labels), len(labels)), count)\n",
        "positive_indices_test = [x for x in range(0, len(cancerlectin_labels)) if x not in positive_indices_training]\n",
        "negative_indices_test = [x for x in range(len(cancerlectin_labels), len(labels)) if x not in negative_indices_training]\n",
        "\n",
        "train_indices = positive_indices_training\n",
        "train_indices.extend(negative_indices_training)\n",
        "test_indices = positive_indices_test\n",
        "test_indices.extend(negative_indices_test)\n",
        "random.shuffle(train_indices)\n",
        "random.shuffle(test_indices)\n",
        "\n",
        "data_train, data_test = data[train_indices], data[test_indices]\n",
        "labels_train, labels_test = labels[train_indices], labels[test_indices]"
      ],
      "execution_count": null,
      "outputs": []
    },
    {
      "cell_type": "markdown",
      "metadata": {
        "id": "6j3DIegOTvxI"
      },
      "source": [
        "Понатаму правиме k-fold поделба на тренинг мн. во тренинг и валидациско множество. \n",
        "\n",
        "За секој k-ти fold се зачувуваат по 3 модели, одбрани според најдобрите резултати во текот на тренирањето врз валидациското множество според мерките: загуба, точност и одзив(recall/sensitivity). Потоа со evaluate_validation за секој од тие модели добиваме конечни 3 резултати(загуба, точност и одзив) и секој резултат се зачувува во посебен dictionary.\n",
        "\n",
        "Со други зборови, за секој k-ти fold се зачувуваат по 3 модели, односно 9 резултати - по 3 за секое од загуба, точност и одзив."
      ]
    },
    {
      "cell_type": "code",
      "metadata": {
        "id": "415BgvTraz-P"
      },
      "source": [
        "def get_model_name(k, metric):\n",
        "    return 'model_' + str(k) + metric + '.h5'\n",
        "\n",
        "fold_var = 1\n",
        "model = None\n",
        "resDictLoss, resDictAcc, resDictRec = dict(), dict(), dict()\n",
        "\n",
        "def evaluate_validation(fold_var, metric, data_validation, labels_validation):\n",
        "  model.load_weights(\"/content/\" + get_model_name(fold_var, metric))\n",
        "  results = model.evaluate(data_validation, labels_validation)\n",
        "  results = dict(zip(model.metrics_names, results))\n",
        "  resDictLoss[get_model_name(fold_var, metric)] = results['loss']\n",
        "  resDictAcc[get_model_name(fold_var, metric)] = results['accuracy']\n",
        "  resDictRec[get_model_name(fold_var, metric)] = results['recall']\n",
        "\n",
        "\n",
        "skf = StratifiedKFold(n_splits = 20, random_state = 0, shuffle = True)\n",
        "for train_index, validation_index in skf.split(data_train, labels_train):\n",
        "  random.shuffle(train_index)\n",
        "  random.shuffle(validation_index)\n",
        "  kdata_train, data_validation = data_train[train_index], data_train[validation_index]\n",
        "  klabels_train, labels_validation = labels_train[train_index], labels_train[validation_index]\n",
        "  \n",
        "  batch = int(0.3 * len(kdata_train))\n",
        "  \n",
        "  # ako ideme so prviot pristap\n",
        "  #kdata_train = np.reshape(kdata_train, (len(kdata_train), 1, len(kdata_train[0])))\n",
        "  #data_validation = np.reshape(data_validation, (len(data_validation), 1, len(data_validation[0])))\n",
        "\n",
        "  model = training_model(kdata_train)\n",
        "  model.compile(loss = 'binary_crossentropy', optimizer = 'adam', metrics = ['accuracy', tf.keras.metrics.Recall(name = \"recall\")])\n",
        "  #print(\"Treniranje na modelot\")\n",
        "  checkpointAcc = ModelCheckpoint(\"/content/\" + get_model_name(fold_var, 'acc'), monitor = 'val_accuracy', verbose = 1, save_best_only = True, mode='max')\n",
        "  checkpointLoss = ModelCheckpoint(\"/content/\" + get_model_name(fold_var, 'loss'), monitor = 'val_loss', verbose = 1, save_best_only = True, mode='min')\n",
        "  checkpointRec = ModelCheckpoint(\"/content/\" + get_model_name(fold_var, 'rec'), monitor = 'val_recall', verbose = 1, save_best_only = True, mode='max')\n",
        "  #es = EarlyStopping(monitor = 'val_loss', mode = 'min', verbose = 1, patience = 2)\n",
        "  model.fit(kdata_train, klabels_train, batch_size = batch, epochs = 45, callbacks = [checkpointAcc, checkpointLoss, checkpointRec], validation_data=(data_validation, labels_validation))\n",
        "\n",
        "  evaluate_validation(fold_var, 'acc', data_validation, labels_validation)\n",
        "  evaluate_validation(fold_var, 'loss', data_validation, labels_validation)\n",
        "  evaluate_validation(fold_var, 'rec', data_validation, labels_validation)\n",
        "  \n",
        "  fold_var += 1"
      ],
      "execution_count": null,
      "outputs": []
    },
    {
      "cell_type": "markdown",
      "metadata": {
        "id": "9PAvaeA_eT-R"
      },
      "source": [
        "Се зема најдобриот модел за секоја од мерките и се тестираат на првичното тест множество."
      ]
    },
    {
      "cell_type": "code",
      "metadata": {
        "id": "8DElaOrk09GW"
      },
      "source": [
        "def testing_model(name, data_test, labels_test):\n",
        "    batch = int(0.2 * len(data_test))\n",
        "    data_test = np.reshape(data_test, (len(data_test), 1, len(data_test[0])))\n",
        "\n",
        "    model.load_weights(\"/content/\" + name)\n",
        "    probs = model.predict(data_test, batch_size = batch)\n",
        "    predicted_labels = []\n",
        "    for prob in probs:\n",
        "      if prob >= 0.5:\n",
        "        predicted_labels.append(1)\n",
        "      else:\n",
        "        predicted_labels.append(0)\n",
        "\n",
        "    acc, precision, sensitivity, specificity, MCC = calculate_performace(len(data_test), predicted_labels, labels_test)\n",
        "    print('''Evaluacija so test mn. za modelot \"%s\"''' % name)\n",
        "    print(\"Accuracy:\", acc)\n",
        "    print(\"Precision:\", precision)\n",
        "    print(\"Recall:\", sensitivity)\n",
        "    print(\"Specificity:\", specificity)\n",
        "    print(\"MCC:\", MCC)"
      ],
      "execution_count": null,
      "outputs": []
    },
    {
      "cell_type": "code",
      "metadata": {
        "id": "JkCxCxXME1CZ",
        "colab": {
          "base_uri": "https://localhost:8080/",
          "height": 374
        },
        "outputId": "a7a5e46d-143a-4e88-aab4-85df302f6ef1"
      },
      "source": [
        "modelLoss = min(resDictLoss.items(), key = operator.itemgetter(1))[0]\n",
        "modelAcc = max(resDictAcc.items(), key = operator.itemgetter(1))[0]\n",
        "modelRec = max(resDictRec.items(), key = operator.itemgetter(1))[0]\n",
        "print(modelLoss)\n",
        "print(modelAcc)\n",
        "print(modelRec)\n",
        "\n",
        "testing_model(modelLoss, data_test, labels_test)\n",
        "testing_model(modelAcc, data_test, labels_test)\n",
        "testing_model(modelRec, data_test, labels_test)"
      ],
      "execution_count": null,
      "outputs": [
        {
          "output_type": "stream",
          "text": [
            "model_1loss.h5\n",
            "model_1acc.h5\n",
            "model_12acc.h5\n",
            "Evaluacija so test mn. za modelot \"model_1loss.h5\"\n",
            "Accuracy: 0.6790123456790124\n",
            "Precision: 0.3548387096774194\n",
            "Recall: 0.6470588235294118\n",
            "Specificity: 0.6875\n",
            "MCC: 0.2802987021533323\n",
            "Evaluacija so test mn. za modelot \"model_1acc.h5\"\n",
            "Accuracy: 0.7407407407407407\n",
            "Precision: 0.4375\n",
            "Recall: 0.8235294117647058\n",
            "Specificity: 0.71875\n",
            "MCC: 0.45171502336642955\n",
            "Evaluacija so test mn. za modelot \"model_12acc.h5\"\n",
            "Accuracy: 0.6296296296296297\n",
            "Precision: 0.3142857142857143\n",
            "Recall: 0.6470588235294118\n",
            "Specificity: 0.625\n",
            "MCC: 0.2236476429047173\n"
          ],
          "name": "stdout"
        }
      ]
    },
    {
      "cell_type": "markdown",
      "metadata": {
        "id": "59PwG0bKpIvP"
      },
      "source": [
        "\n",
        "\n",
        "---\n",
        "\n"
      ]
    },
    {
      "cell_type": "markdown",
      "metadata": {
        "id": "i9U3cpW3bQuL"
      },
      "source": [
        "**Начин 2: тренирачко & тест мн.**\n",
        "\n",
        "\n",
        "---\n",
        "\n"
      ]
    },
    {
      "cell_type": "code",
      "metadata": {
        "id": "Vhjyc12WP1Hm"
      },
      "source": [
        "batch = int(0.15 * len(data_train))\n",
        "# ako ideme so prviot pristap\n",
        "#data_train = np.reshape(data_train, (len(data_train), 1, len(data_train[0])))\n",
        "\n",
        "model = training_model(data_train)\n",
        "model.compile(loss = 'binary_crossentropy', optimizer = 'adam', metrics = ['accuracy'])\n",
        "#print(\"Treniranje na modelot\")\n",
        "model.fit(data_train, labels_train, batch_size = batch, epochs = 45)\n",
        "\n",
        "batch = int(0.25 * len(data_test))\n",
        "# ako ideme so prviot pristap\n",
        "#data_test = np.reshape(data_test, (len(data_test), 1, len(data_test[0])))\n",
        "\n",
        "probs = model.predict(data_test, batch_size = batch)\n",
        "predicted_labels = []\n",
        "for prob in probs:\n",
        "  if prob >= 0.5:\n",
        "    predicted_labels.append(1)\n",
        "  else:\n",
        "    predicted_labels.append(0)\n",
        "\n",
        "# gledav kakvi verojatnosti se dobivaat - najchesto e so golema verojatnost\n",
        "# i koga predviduva greshno i koga predviduva tochno.\n",
        "#listt = []\n",
        "#for i in range(len(probs)):\n",
        "  #listt.append([probs[i], predicted_labels[i], labels_test[i]])\n",
        "#print(listt)\n",
        "\n",
        "acc, precision, sensitivity, specificity, MCC = calculate_performace(len(data_test), predicted_labels, labels_test)\n",
        "print(\"Accuracy:\", acc)\n",
        "print(\"Precision:\", precision)\n",
        "print(\"Recall:\", sensitivity)\n",
        "print(\"Specificity:\", specificity)\n",
        "print(\"MCC:\", MCC)"
      ],
      "execution_count": null,
      "outputs": []
    },
    {
      "cell_type": "markdown",
      "metadata": {
        "id": "vOkCrA3uqT8v"
      },
      "source": [
        "\n",
        "\n",
        "---\n",
        "\n"
      ]
    },
    {
      "cell_type": "markdown",
      "metadata": {
        "id": "1Q7Bo9OLECOQ"
      },
      "source": [
        "**Начин 3: без валидациско мн. - како во претходните истражувања и тоа што го користам во конечните резултати**\n",
        "\n",
        "\n",
        "---\n",
        "\n",
        "Се дели секој пат со еднаква распределба на класите во тренинг и тест множеството, се евалуира изградениот модел врз тест множеството и на крајот се зема средната вредност од сите резултати."
      ]
    },
    {
      "cell_type": "code",
      "metadata": {
        "id": "fGU7SYi-EBnn"
      },
      "source": [
        "res = []\n",
        "\n",
        "skf = StratifiedKFold(n_splits = 10, random_state = 0, shuffle = True)\n",
        "for train_index, test_index in skf.split(data, labels):\n",
        "  # pravime obichen shuffle za da ne se podredeni pozitivni, pa negativni, bidejki ima \n",
        "  # vlijanie vrz toa kako uchi mrezhata\n",
        "  random.shuffle(train_index)\n",
        "  random.shuffle(test_index)\n",
        "  data_train, data_test = data[train_index], data[test_index]\n",
        "  labels_train, labels_test = labels[train_index], labels[test_index]\n",
        "  \n",
        "  batch = int(0.2 * len(data_train))\n",
        "  # dokolku odime so prviot pristap\n",
        "  #data_train = np.reshape(data_train, (len(data_train), 1, len(data_train[0])))\n",
        "  #data_test = np.reshape(data_test, (len(data_test), 1, len(data_test[0])))\n",
        "\n",
        "  model = training_model(data_train)\n",
        "  model.compile(loss = 'binary_crossentropy', optimizer = 'adam', metrics = ['accuracy'])\n",
        "  model.fit(data_train, labels_train, batch_size = batch, epochs = 50)\n",
        "\n",
        "  batch = int(0.2 * len(data_test))\n",
        "  probs = model.predict(data_test, batch_size = batch)\n",
        "  predicted_labels = []\n",
        "  for prob in probs:\n",
        "    if prob >= 0.5:\n",
        "      predicted_labels.append(1)\n",
        "    else:\n",
        "      predicted_labels.append(0)\n",
        "\n",
        "  acc, precision, sensitivity, specificity, MCC = calculate_performace(len(labels_test), predicted_labels, labels_test)\n",
        "  results = []\n",
        "  print(\"Accuracy:\", acc)\n",
        "  print(\"Precision:\", precision)\n",
        "  print(\"Recall:\", sensitivity)\n",
        "  print(\"Specificity:\", specificity)\n",
        "  print(\"MCC:\", MCC)\n",
        "  results.append(acc)\n",
        "  results.append(precision)\n",
        "  results.append(sensitivity)\n",
        "  results.append(specificity)\n",
        "  results.append(MCC)\n",
        "  res.append(results)"
      ],
      "execution_count": null,
      "outputs": []
    },
    {
      "cell_type": "code",
      "metadata": {
        "id": "m26fzioW_2x8"
      },
      "source": [
        "def results(res_by_metric):\n",
        "  acc, precision, recall, specificity, MCC = [], [], [], [], []\n",
        "  for res in res_by_metric:\n",
        "    acc.append(res[0])\n",
        "    precision.append(res[1])\n",
        "    recall.append(res[2])\n",
        "    specificity.append(res[3])\n",
        "    MCC.append(res[4])\n",
        "  print(acc)\n",
        "  print(precision)\n",
        "  print(recall)\n",
        "  print(specificity)\n",
        "  print(MCC)\n",
        "  print(\"Accuracy:\", np.mean(acc))\n",
        "  print(\"Precision:\", np.mean(precision))\n",
        "  print(\"Recall:\", np.mean(recall))\n",
        "  print(\"Specificity:\", np.mean(specificity))\n",
        "  print(\"MCC:\", np.mean(MCC))\n",
        "\n",
        "results(res)"
      ],
      "execution_count": null,
      "outputs": []
    },
    {
      "cell_type": "markdown",
      "metadata": {
        "id": "B-6YZc4LsBTG"
      },
      "source": [
        "\n",
        "\n",
        "---\n",
        "\n"
      ]
    }
  ]
}